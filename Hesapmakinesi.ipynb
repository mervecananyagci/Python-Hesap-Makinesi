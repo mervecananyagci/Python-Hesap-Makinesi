{
  "nbformat": 4,
  "nbformat_minor": 0,
  "metadata": {
    "colab": {
      "provenance": [],
      "mount_file_id": "1RUr31shJh_BeijhZBy1H4LorDxyZ9GFt",
      "authorship_tag": "ABX9TyOkUGoBav88aE2MFd+hB7L1",
      "include_colab_link": true
    },
    "kernelspec": {
      "name": "python3",
      "display_name": "Python 3"
    },
    "language_info": {
      "name": "python"
    }
  },
  "cells": [
    {
      "cell_type": "markdown",
      "metadata": {
        "id": "view-in-github",
        "colab_type": "text"
      },
      "source": [
        "<a href=\"https://colab.research.google.com/github/mervecananyagci/Python-Hesap-Makinesi/blob/main/Hesapmakinesi.ipynb\" target=\"_parent\"><img src=\"https://colab.research.google.com/assets/colab-badge.svg\" alt=\"Open In Colab\"/></a>"
      ]
    },
    {
      "cell_type": "code",
      "execution_count": 3,
      "metadata": {
        "colab": {
          "base_uri": "https://localhost:8080/",
          "height": 87
        },
        "outputId": "62037ea3-ba2d-4010-8618-ac8e45003ad3",
        "id": "7Gfqym3rW5dT"
      },
      "outputs": [
        {
          "name": "stdout",
          "output_type": "stream",
          "text": [
            "birinci sayıyı girin: 7\n",
            "ikinci sayıyı girin: 5\n",
            "işlem seçiniz: +-/* /\n"
          ]
        },
        {
          "output_type": "execute_result",
          "data": {
            "text/plain": [
              "'7 / 5 = 1.4'"
            ],
            "application/vnd.google.colaboratory.intrinsic+json": {
              "type": "string"
            }
          },
          "metadata": {},
          "execution_count": 3
        }
      ],
      "source": [
        "def hesapla(a,b,islem):\n",
        "  if islem == \"+\":\n",
        "    return (str(a) + \" + \" + str(b) + \" = \" + str(a+b))\n",
        "  if islem == \"-\":\n",
        "    return (str(a) + \" - \" + str(b) + \" = \" + str(a-b))\n",
        "  if islem == \"*\":\n",
        "    return (str(a) + \" * \" + str(b) + \" = \" + str(a*b))\n",
        "  if islem == \"/\":\n",
        "    return (str(a) + \" / \" + str(b) + \" = \" + str(a/b))\n",
        "\n",
        "\n",
        "a = int(input(\"birinci sayıyı girin: \"))\n",
        "b = int(input(\"ikinci sayıyı girin: \"))\n",
        "islem= (input(\"işlem seçiniz: +-/* \"))\n",
        "hesapla(a,b,islem)"
      ]
    }
  ]
}